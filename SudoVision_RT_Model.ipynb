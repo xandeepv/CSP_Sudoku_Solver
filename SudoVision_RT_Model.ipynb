{
 "cells": [
  {
   "cell_type": "code",
   "execution_count": null,
   "metadata": {},
   "outputs": [],
   "source": [
    "## need to install the following libraries\n",
    "## pip3 install imutils tensorflow keras opencv-python ipynb pandas"
   ]
  },
  {
   "cell_type": "code",
   "execution_count": 30,
   "metadata": {},
   "outputs": [],
   "source": [
    "import tensorflow as tf\n",
    "import keras\n",
    "import numpy as np\n",
    "import matplotlib.pyplot as plt\n",
    "import os\n",
    "import cv2\n",
    "from sklearn.model_selection import train_test_split"
   ]
  },
  {
   "cell_type": "markdown",
   "metadata": {},
   "source": [
    "## Get the data"
   ]
  },
  {
   "cell_type": "code",
   "execution_count": 31,
   "metadata": {},
   "outputs": [
    {
     "name": "stdout",
     "output_type": "stream",
     "text": [
      "10160\n",
      "10160\n"
     ]
    }
   ],
   "source": [
    "#Get the data\n",
    "classes = 10 \n",
    "images = []\n",
    "labels = [] \n",
    "\n",
    "for i in range(0, classes):\n",
    "    imgList = os.listdir('Data/'+str(i))\n",
    "    for j in imgList:\n",
    "        currentImg = cv2.imread('Data/'+str(i)+'/'+str(j))\n",
    "        currentImg = cv2.resize(currentImg, (28, 28))\n",
    "        images.append(currentImg)\n",
    "        labels.append(i)\n",
    "        \n",
    "print(len(images))\n",
    "print(len(labels))"
   ]
  },
  {
   "cell_type": "code",
   "execution_count": 32,
   "metadata": {},
   "outputs": [
    {
     "name": "stdout",
     "output_type": "stream",
     "text": [
      "(10160, 28, 28, 3)\n",
      "(10160,)\n"
     ]
    }
   ],
   "source": [
    "images = np.array(images)\n",
    "labels = np.array(labels)\n",
    "print(images.shape)\n",
    "print(labels.shape)"
   ]
  },
  {
   "cell_type": "code",
   "execution_count": 25,
   "metadata": {},
   "outputs": [
    {
     "data": {
      "text/plain": [
       "<matplotlib.image.AxesImage at 0x7fe54da5f9d0>"
      ]
     },
     "execution_count": 25,
     "metadata": {},
     "output_type": "execute_result"
    },
    {
     "data": {
      "image/png": "[encoded data removed]",
      "text/plain": [
       "<Figure size 432x288 with 1 Axes>"
      ]
     },
     "metadata": {
      "needs_background": "light"
     },
     "output_type": "display_data"
    }
   ],
   "source": [
    "plt.imshow(images[10])"
   ]
  },
  {
   "cell_type": "markdown",
   "metadata": {},
   "source": [
    "## Split the data into Train, Test and Validation Sets"
   ]
  },
  {
   "cell_type": "code",
   "execution_count": 33,
   "metadata": {},
   "outputs": [
    {
     "name": "stdout",
     "output_type": "stream",
     "text": [
      "(8128, 28, 28, 3)\n",
      "(2032, 28, 28, 3)\n"
     ]
    }
   ],
   "source": [
    "\n",
    "train_images, test_images, train_labels, test_labels = train_test_split(images, labels, test_size=0.2)\n",
    "print(train_images.shape)\n",
    "print(test_images.shape)"
   ]
  },
  {
   "cell_type": "code",
   "execution_count": 34,
   "metadata": {},
   "outputs": [
    {
     "name": "stdout",
     "output_type": "stream",
     "text": [
      "(6502, 28, 28, 3)\n",
      "(1626, 28, 28, 3)\n"
     ]
    }
   ],
   "source": [
    "\n",
    "train_images,  val_images, train_labels, val_labels = train_test_split(train_images, train_labels, test_size=0.2)\n",
    "print(train_images.shape)\n",
    "print(val_images.shape)"
   ]
  },
  {
   "cell_type": "markdown",
   "metadata": {},
   "source": [
    "## Preprocessing the data"
   ]
  },
  {
   "cell_type": "code",
   "execution_count": 35,
   "metadata": {},
   "outputs": [],
   "source": [
    "def preProcess(img):\n",
    "    img=cv2.cvtColor(img,cv2.COLOR_BGR2GRAY)\n",
    "    img=cv2.equalizeHist(img)\n",
    "    x,img=cv2.threshold(img, 127, 255, cv2.THRESH_BINARY)\n",
    "    img=img/255\n",
    "    return img\n",
    "\n",
    "train_images = np.array(list(map(preProcess, train_images)))\n",
    "test_images = np.array(list(map(preProcess, test_images)))\n",
    "val_images = np.array(list(map(preProcess, val_images)))"
   ]
  },
  {
   "cell_type": "code",
   "execution_count": 36,
   "metadata": {},
   "outputs": [
    {
     "name": "stdout",
     "output_type": "stream",
     "text": [
      "(6502, 28, 28)\n",
      "(2032, 28, 28)\n",
      "(1626, 28, 28)\n"
     ]
    }
   ],
   "source": [
    "print(train_images.shape)\n",
    "print(test_images.shape)\n",
    "print(val_images.shape)"
   ]
  },
  {
   "cell_type": "code",
   "execution_count": 37,
   "metadata": {},
   "outputs": [],
   "source": [
    "train_images = train_images.reshape(train_images.shape[0], 28, 28, 1)\n",
    "test_images = test_images.reshape(test_images.shape[0], 28, 28, 1)\n",
    "val_images = val_images.reshape(val_images.shape[0], 28, 28, 1)"
   ]
  },
  {
   "cell_type": "code",
   "execution_count": 38,
   "metadata": {},
   "outputs": [
    {
     "name": "stdout",
     "output_type": "stream",
     "text": [
      "(6502, 28, 28, 1)\n",
      "(2032, 28, 28, 1)\n",
      "(1626, 28, 28, 1)\n"
     ]
    }
   ],
   "source": [
    "print(train_images.shape)\n",
    "print(test_images.shape)\n",
    "print(val_images.shape)"
   ]
  },
  {
   "cell_type": "code",
   "execution_count": 13,
   "metadata": {},
   "outputs": [
    {
     "data": {
      "text/plain": [
       "<matplotlib.image.AxesImage at 0x7fe54a6742b0>"
      ]
     },
     "execution_count": 13,
     "metadata": {},
     "output_type": "execute_result"
    },
    {
     "data": {
      "image/png": "[encoded data removed]",
      "text/plain": [
       "<Figure size 432x288 with 1 Axes>"
      ]
     },
     "metadata": {
      "needs_background": "light"
     },
     "output_type": "display_data"
    }
   ],
   "source": [
    "plt.imshow(images[10])"
   ]
  },
  {
   "cell_type": "markdown",
   "metadata": {},
   "source": [
    "## Defining Callback"
   ]
  },
  {
   "cell_type": "code",
   "execution_count": 39,
   "metadata": {},
   "outputs": [],
   "source": [
    "class myCallback(tf.keras.callbacks.Callback):\n",
    "    def on_epoch_end(self, epoch, logs={}):\n",
    "        if(logs.get('val_accuracy')>0.997):\n",
    "            print(\"\\nReached 99.5% accuracy so cancelling training!\")\n",
    "            self.model.stop_training = True"
   ]
  },
  {
   "cell_type": "markdown",
   "metadata": {},
   "source": [
    "## Creating CNN Model"
   ]
  },
  {
   "cell_type": "code",
   "execution_count": 40,
   "metadata": {},
   "outputs": [],
   "source": [
    "model = tf.keras.models.Sequential([\n",
    "                                    tf.keras.layers.Conv2D(32, (3,3), input_shape=(28, 28, 1),  activation=\"relu\"),\n",
    "                                    tf.keras.layers.MaxPooling2D(2, 2),\n",
    "                                    tf.keras.layers.Dropout(0.5),\n",
    "                                    tf.keras.layers.Conv2D(64, (3,3),  activation=\"relu\"),\n",
    "                                    tf.keras.layers.MaxPooling2D(2, 2),\n",
    "                                    tf.keras.layers.Dropout(0.5),\n",
    "                                    tf.keras.layers.Conv2D(64, (3,3),  activation=\"relu\"),\n",
    "                                    tf.keras.layers.Flatten(),\n",
    "                                    tf.keras.layers.Dense(128, activation=\"relu\"),\n",
    "                                    tf.keras.layers.Dropout(0.5),\n",
    "                                    tf.keras.layers.Dense(10,activation=tf.nn.softmax)\n",
    "])"
   ]
  },
  {
   "cell_type": "code",
   "execution_count": 41,
   "metadata": {},
   "outputs": [
    {
     "name": "stdout",
     "output_type": "stream",
     "text": [
      "Model: \"sequential_1\"\n",
      "_________________________________________________________________\n",
      "Layer (type)                 Output Shape              Param #   \n",
      "=================================================================\n",
      "conv2d_3 (Conv2D)            (None, 26, 26, 32)        320       \n",
      "_________________________________________________________________\n",
      "max_pooling2d_2 (MaxPooling2 (None, 13, 13, 32)        0         \n",
      "_________________________________________________________________\n",
      "dropout_3 (Dropout)          (None, 13, 13, 32)        0         \n",
      "_________________________________________________________________\n",
      "conv2d_4 (Conv2D)            (None, 11, 11, 64)        18496     \n",
      "_________________________________________________________________\n",
      "max_pooling2d_3 (MaxPooling2 (None, 5, 5, 64)          0         \n",
      "_________________________________________________________________\n",
      "dropout_4 (Dropout)          (None, 5, 5, 64)          0         \n",
      "_________________________________________________________________\n",
      "conv2d_5 (Conv2D)            (None, 3, 3, 64)          36928     \n",
      "_________________________________________________________________\n",
      "flatten_1 (Flatten)          (None, 576)               0         \n",
      "_________________________________________________________________\n",
      "dense_2 (Dense)              (None, 128)               73856     \n",
      "_________________________________________________________________\n",
      "dropout_5 (Dropout)          (None, 128)               0         \n",
      "_________________________________________________________________\n",
      "dense_3 (Dense)              (None, 10)                1290      \n",
      "=================================================================\n",
      "Total params: 130,890\n",
      "Trainable params: 130,890\n",
      "Non-trainable params: 0\n",
      "_________________________________________________________________\n"
     ]
    }
   ],
   "source": [
    "model.compile(optimizer='adam', \n",
    "              loss='sparse_categorical_crossentropy', \n",
    "              metrics=['accuracy'])\n",
    "model.summary()"
   ]
  },
  {
   "cell_type": "markdown",
   "metadata": {},
   "source": [
    "## Image Augmentation"
   ]
  },
  {
   "cell_type": "code",
   "execution_count": 42,
   "metadata": {},
   "outputs": [],
   "source": [
    "datagen = tf.keras.preprocessing.image.ImageDataGenerator(width_shift_range=0.1,\n",
    "                             height_shift_range=0.1,\n",
    "                             zoom_range=0.2,\n",
    "                             shear_range=0.1,\n",
    "                             rotation_range=10)"
   ]
  },
  {
   "cell_type": "markdown",
   "metadata": {},
   "source": [
    "## Training the model"
   ]
  },
  {
   "cell_type": "code",
   "execution_count": 18,
   "metadata": {},
   "outputs": [
    {
     "name": "stdout",
     "output_type": "stream",
     "text": [
      "Epoch 1/30\n",
      "204/204 [==============================] - 3s 14ms/step - loss: 2.0089 - accuracy: 0.2618 - val_loss: 0.6402 - val_accuracy: 0.8801\n",
      "Epoch 2/30\n",
      "204/204 [==============================] - 3s 14ms/step - loss: 0.8794 - accuracy: 0.7041 - val_loss: 0.1577 - val_accuracy: 0.9508\n",
      "Epoch 3/30\n",
      "204/204 [==============================] - 3s 13ms/step - loss: 0.5287 - accuracy: 0.8327 - val_loss: 0.1259 - val_accuracy: 0.9490\n",
      "Epoch 4/30\n",
      "204/204 [==============================] - 3s 13ms/step - loss: 0.3722 - accuracy: 0.8842 - val_loss: 0.0626 - val_accuracy: 0.9803\n",
      "Epoch 5/30\n",
      "204/204 [==============================] - 3s 14ms/step - loss: 0.3030 - accuracy: 0.9094 - val_loss: 0.0524 - val_accuracy: 0.9865\n",
      "Epoch 6/30\n",
      "204/204 [==============================] - 3s 13ms/step - loss: 0.2541 - accuracy: 0.9209 - val_loss: 0.0455 - val_accuracy: 0.9852\n",
      "Epoch 7/30\n",
      "204/204 [==============================] - 3s 14ms/step - loss: 0.2349 - accuracy: 0.9285 - val_loss: 0.0394 - val_accuracy: 0.9865\n",
      "Epoch 8/30\n",
      "204/204 [==============================] - 3s 14ms/step - loss: 0.2083 - accuracy: 0.9351 - val_loss: 0.0304 - val_accuracy: 0.9883\n",
      "Epoch 9/30\n",
      "204/204 [==============================] - 3s 14ms/step - loss: 0.2064 - accuracy: 0.9346 - val_loss: 0.0297 - val_accuracy: 0.9908\n",
      "Epoch 10/30\n",
      "204/204 [==============================] - 3s 13ms/step - loss: 0.1831 - accuracy: 0.9436 - val_loss: 0.0400 - val_accuracy: 0.9889\n",
      "Epoch 11/30\n",
      "204/204 [==============================] - 3s 13ms/step - loss: 0.1661 - accuracy: 0.9491 - val_loss: 0.0236 - val_accuracy: 0.9932\n",
      "Epoch 12/30\n",
      "204/204 [==============================] - 3s 14ms/step - loss: 0.1617 - accuracy: 0.9499 - val_loss: 0.0342 - val_accuracy: 0.9902\n",
      "Epoch 13/30\n",
      "204/204 [==============================] - 3s 14ms/step - loss: 0.1484 - accuracy: 0.9532 - val_loss: 0.0224 - val_accuracy: 0.9951\n",
      "Epoch 14/30\n",
      "204/204 [==============================] - 3s 14ms/step - loss: 0.1420 - accuracy: 0.9565 - val_loss: 0.0234 - val_accuracy: 0.9932\n",
      "Epoch 15/30\n",
      "204/204 [==============================] - 3s 14ms/step - loss: 0.1508 - accuracy: 0.9516 - val_loss: 0.0357 - val_accuracy: 0.9877\n",
      "Epoch 16/30\n",
      "204/204 [==============================] - 3s 14ms/step - loss: 0.1232 - accuracy: 0.9583 - val_loss: 0.0253 - val_accuracy: 0.9920\n",
      "Epoch 17/30\n",
      "204/204 [==============================] - 3s 14ms/step - loss: 0.1277 - accuracy: 0.9602 - val_loss: 0.0151 - val_accuracy: 0.9963\n",
      "Epoch 18/30\n",
      "204/204 [==============================] - 3s 14ms/step - loss: 0.1232 - accuracy: 0.9600 - val_loss: 0.0175 - val_accuracy: 0.9957\n",
      "Epoch 19/30\n",
      "204/204 [==============================] - 3s 13ms/step - loss: 0.1185 - accuracy: 0.9652 - val_loss: 0.0375 - val_accuracy: 0.9889\n",
      "Epoch 20/30\n",
      "204/204 [==============================] - 3s 14ms/step - loss: 0.1205 - accuracy: 0.9622 - val_loss: 0.0250 - val_accuracy: 0.9914\n",
      "Epoch 21/30\n",
      "204/204 [==============================] - 3s 14ms/step - loss: 0.1298 - accuracy: 0.9586 - val_loss: 0.0179 - val_accuracy: 0.9938\n",
      "Epoch 22/30\n",
      "204/204 [==============================] - 3s 14ms/step - loss: 0.1097 - accuracy: 0.9654 - val_loss: 0.0207 - val_accuracy: 0.9920\n",
      "Epoch 23/30\n",
      "204/204 [==============================] - 3s 14ms/step - loss: 0.1142 - accuracy: 0.9635 - val_loss: 0.0142 - val_accuracy: 0.9963\n",
      "Epoch 24/30\n",
      "204/204 [==============================] - 3s 14ms/step - loss: 0.1014 - accuracy: 0.9691 - val_loss: 0.0156 - val_accuracy: 0.9969\n",
      "Epoch 25/30\n",
      "204/204 [==============================] - 3s 13ms/step - loss: 0.0939 - accuracy: 0.9702 - val_loss: 0.0220 - val_accuracy: 0.9926\n",
      "Epoch 26/30\n",
      "204/204 [==============================] - 3s 14ms/step - loss: 0.1035 - accuracy: 0.9689 - val_loss: 0.0262 - val_accuracy: 0.9908\n",
      "Epoch 27/30\n",
      "204/204 [==============================] - 3s 14ms/step - loss: 0.1007 - accuracy: 0.9691 - val_loss: 0.0130 - val_accuracy: 0.9963\n",
      "Epoch 28/30\n",
      "204/204 [==============================] - 3s 13ms/step - loss: 0.0899 - accuracy: 0.9732 - val_loss: 0.0120 - val_accuracy: 0.9963\n",
      "Epoch 29/30\n",
      "204/204 [==============================] - 3s 13ms/step - loss: 0.0883 - accuracy: 0.9725 - val_loss: 0.0131 - val_accuracy: 0.9963\n",
      "Epoch 30/30\n",
      "204/204 [==============================] - 3s 14ms/step - loss: 0.0988 - accuracy: 0.9689 - val_loss: 0.0195 - val_accuracy: 0.9926\n"
     ]
    }
   ],
   "source": [
    "## enhanced data set to have zoom,shear, shit distrotions on the MNIST dataset\n",
    "callbacks = myCallback()\n",
    "history = model.fit(datagen.flow(train_images, train_labels),\n",
    "                              epochs = 30, validation_data = (val_images, val_labels), callbacks = [callbacks])"
   ]
  },
  {
   "cell_type": "code",
   "execution_count": 45,
   "metadata": {},
   "outputs": [
    {
     "name": "stdout",
     "output_type": "stream",
     "text": [
      "Epoch 1/30\n",
      "204/204 [==============================] - 3s 13ms/step - loss: 0.0530 - accuracy: 0.9822 - val_loss: 0.0183 - val_accuracy: 0.9951\n",
      "Epoch 2/30\n",
      "204/204 [==============================] - 3s 13ms/step - loss: 0.0392 - accuracy: 0.9880 - val_loss: 0.0242 - val_accuracy: 0.9926\n",
      "Epoch 3/30\n",
      "204/204 [==============================] - 3s 14ms/step - loss: 0.0391 - accuracy: 0.9882 - val_loss: 0.0221 - val_accuracy: 0.9932\n",
      "Epoch 4/30\n",
      "204/204 [==============================] - 3s 14ms/step - loss: 0.0345 - accuracy: 0.9883 - val_loss: 0.0184 - val_accuracy: 0.9945\n",
      "Epoch 5/30\n",
      "204/204 [==============================] - 3s 14ms/step - loss: 0.0338 - accuracy: 0.9883 - val_loss: 0.0141 - val_accuracy: 0.9963\n",
      "Epoch 6/30\n",
      "204/204 [==============================] - 3s 14ms/step - loss: 0.0304 - accuracy: 0.9894 - val_loss: 0.0163 - val_accuracy: 0.9938\n",
      "Epoch 7/30\n",
      "204/204 [==============================] - 3s 14ms/step - loss: 0.0337 - accuracy: 0.9892 - val_loss: 0.0120 - val_accuracy: 0.9963\n",
      "Epoch 8/30\n",
      "204/204 [==============================] - 3s 14ms/step - loss: 0.0239 - accuracy: 0.9923 - val_loss: 0.0142 - val_accuracy: 0.9951\n",
      "Epoch 9/30\n",
      "204/204 [==============================] - 3s 14ms/step - loss: 0.0294 - accuracy: 0.9923 - val_loss: 0.0145 - val_accuracy: 0.9951\n",
      "Epoch 10/30\n",
      "200/204 [============================>.] - ETA: 0s - loss: 0.0272 - accuracy: 0.9916\n",
      "Reached 99.5% accuracy so cancelling training!\n",
      "204/204 [==============================] - 3s 14ms/step - loss: 0.0275 - accuracy: 0.9914 - val_loss: 0.0137 - val_accuracy: 0.9975\n"
     ]
    }
   ],
   "source": [
    "## For Non enhanced MNIST\n",
    "## the enhanced one failed for Sudoku images as lot of wrong predicitons.\n",
    "callbacks = myCallback()\n",
    "history = model.fit(train_images, train_labels,\n",
    "                              epochs = 30, validation_data = (val_images, val_labels), callbacks = [callbacks])"
   ]
  },
  {
   "cell_type": "markdown",
   "metadata": {},
   "source": [
    "### Plotting Graphs"
   ]
  },
  {
   "cell_type": "code",
   "execution_count": 19,
   "metadata": {},
   "outputs": [
    {
     "data": {
      "image/png": "[encoded data removed]",
      "text/plain": [
       "<Figure size 432x288 with 1 Axes>"
      ]
     },
     "metadata": {
      "needs_background": "light"
     },
     "output_type": "display_data"
    },
    {
     "data": {
      "image/png": "[encoded data removed]",
      "text/plain": [
       "<Figure size 432x288 with 1 Axes>"
      ]
     },
     "metadata": {
      "needs_background": "light"
     },
     "output_type": "display_data"
    }
   ],
   "source": [
    "# for Enhanced MNIST Dataset\n",
    "plt.figure(1)\n",
    "plt.plot(history.history['loss'])\n",
    "plt.plot(history.history['val_loss'])\n",
    "plt.legend(['Training','Validation'])\n",
    "plt.title('Loss')\n",
    "plt.xlabel('epoch')\n",
    "plt.figure(2)\n",
    "plt.plot(history.history['accuracy'])\n",
    "plt.plot(history.history['val_accuracy'])\n",
    "plt.legend(['Training','Validation'])\n",
    "plt.title('Accuracy')\n",
    "plt.xlabel('epoch')\n",
    "plt.show()"
   ]
  },
  {
   "cell_type": "code",
   "execution_count": 46,
   "metadata": {},
   "outputs": [
    {
     "data": {
      "image/png": "[encoded data removed]",
      "text/plain": [
       "<Figure size 432x288 with 1 Axes>"
      ]
     },
     "metadata": {
      "needs_background": "light"
     },
     "output_type": "display_data"
    },
    {
     "data": {
      "image/png": "[encoded data removed]",
      "text/plain": [
       "<Figure size 432x288 with 1 Axes>"
      ]
     },
     "metadata": {
      "needs_background": "light"
     },
     "output_type": "display_data"
    }
   ],
   "source": [
    "# for normal MNIST Dataset\n",
    "plt.figure(1)\n",
    "plt.plot(history.history['loss'])\n",
    "plt.plot(history.history['val_loss'])\n",
    "plt.legend(['Training','Validation'])\n",
    "plt.title('Loss')\n",
    "plt.xlabel('epoch')\n",
    "plt.figure(2)\n",
    "plt.plot(history.history['accuracy'])\n",
    "plt.plot(history.history['val_accuracy'])\n",
    "plt.legend(['Training','Validation'])\n",
    "plt.title('Accuracy')\n",
    "plt.xlabel('epoch')\n",
    "plt.show()"
   ]
  },
  {
   "cell_type": "markdown",
   "metadata": {},
   "source": [
    "### Evaluating the model on Test set"
   ]
  },
  {
   "cell_type": "code",
   "execution_count": 20,
   "metadata": {},
   "outputs": [
    {
     "name": "stdout",
     "output_type": "stream",
     "text": [
      "64/64 [==============================] - 0s 2ms/step - loss: 0.0202 - accuracy: 0.9946\n",
      "Test Score :  0.020159898325800896\n",
      "Test Accuracy :  0.9945865869522095\n"
     ]
    }
   ],
   "source": [
    "## enhanced MNIST dataset\n",
    "\n",
    "score = model.evaluate(test_images, test_labels, verbose=1)\n",
    "print('Test Score : ', score[0])\n",
    "print('Test Accuracy : ', score[1])"
   ]
  },
  {
   "cell_type": "code",
   "execution_count": 47,
   "metadata": {},
   "outputs": [
    {
     "name": "stdout",
     "output_type": "stream",
     "text": [
      "64/64 [==============================] - 0s 2ms/step - loss: 0.0111 - accuracy: 0.9966\n",
      "Test Score :  0.011131134815514088\n",
      "Test Accuracy :  0.9965550899505615\n"
     ]
    }
   ],
   "source": [
    "# normal MNIST Data \n",
    "\n",
    "score = model.evaluate(test_images, test_labels, verbose=1)\n",
    "print('Test Score : ', score[0])\n",
    "print('Test Accuracy : ', score[1])"
   ]
  },
  {
   "cell_type": "markdown",
   "metadata": {},
   "source": [
    "### Saving the model"
   ]
  },
  {
   "cell_type": "code",
   "execution_count": 21,
   "metadata": {},
   "outputs": [],
   "source": [
    "# enhanced MNIST dataset\n",
    "model.save(\"SudoVision_RT.h5\")"
   ]
  },
  {
   "cell_type": "code",
   "execution_count": 48,
   "metadata": {},
   "outputs": [],
   "source": [
    "# normal MNIST dataset\n",
    "model.save(\"SudoVision_RT_mnist.h5\")"
   ]
  },
  {
   "cell_type": "code",
   "execution_count": null,
   "metadata": {},
   "outputs": [],
   "source": []
  }
 ],
 "metadata": {
  "kernelspec": {
   "display_name": "Python 3",
   "language": "python",
   "name": "python3"
  },
  "language_info": {
   "codemirror_mode": {
    "name": "ipython",
    "version": 3
   },
   "file_extension": ".py",
   "mimetype": "text/x-python",
   "name": "python",
   "nbconvert_exporter": "python",
   "pygments_lexer": "ipython3",
   "version": "3.8.3"
  }
 },
 "nbformat": 4,
 "nbformat_minor": 2
}
